{
 "cells": [
  {
   "cell_type": "markdown",
   "metadata": {
    "tags": []
   },
   "source": [
    "# Description of the artifacts TODO\n",
    "\n",
    "TODO"
   ]
  },
  {
   "cell_type": "markdown",
   "metadata": {},
   "source": [
    "## Setup the Chameleon\n",
    "\n",
    "A container with a NVIDIA GPU is needed\n",
    "\n",
    "- One node of type \"gpu_p100\", \"gpu_rtx_6000\", \"gpu_v100\" or \"gpu_a100\" ([see all types](https://chameleoncloud.readthedocs.io/en/latest/technical/reservations.html#chameleon-node-types))\n",
    "- One public IP\n",
    "\n",
    "### Configuration\n",
    "\n",
    "Enter your project ID in the code block below, if you are not a member of `CHI-241321`."
   ]
  },
  {
   "cell_type": "code",
   "execution_count": 1,
   "metadata": {},
   "outputs": [
    {
     "name": "stdout",
     "output_type": "stream",
     "text": [
      "Now using CHI@UC:\n",
      "URL: https://chi.uc.chameleoncloud.org\n",
      "Location: Argonne National Laboratory, Lemont, Illinois, USA\n",
      "Support contact: help@chameleoncloud.org\n",
      "Using Project CHI-241321\n"
     ]
    }
   ],
   "source": [
    "import chi\n",
    "\n",
    "chi.use_site(\"CHI@UC\")\n",
    "\n",
    "# Change to your project (CHI-XXXXXX)\n",
    "chi.set(\"project_name\", \"CHI-241321\")\n",
    "\n",
    "print(f'Using Project {chi.get(\"project_name\")}')"
   ]
  },
  {
   "cell_type": "markdown",
   "metadata": {},
   "source": [
    "### Create reservation\n",
    "\n",
    "Chameleon resources need to be reserved before they can be used. \n",
    "We will reserve one bare metal node and one public IP address.\n",
    "\n",
    "If you get an error such as \"no host availiable\", it may be the case that all of our nodes are reserved. Check the availiablility calendar to see if this is true:\n",
    "https://chi.uc.chameleoncloud.org/project/leases/calendar/host/\n",
    "\n",
    "It may take around a minute or so for your lease to become active."
   ]
  },
  {
   "cell_type": "code",
   "execution_count": 3,
   "metadata": {},
   "outputs": [
    {
     "name": "stdout",
     "output_type": "stream",
     "text": [
      "Creating lease...\n",
      "2024-06-20 17:26 2024-06-20 17:43\n",
      "Waiting for lease to start ...\n",
      "Lease is now active!\n"
     ]
    }
   ],
   "source": [
    "import os\n",
    "import keystoneauth1, blazarclient\n",
    "from chi import lease\n",
    "\n",
    "\n",
    "hours = 0.3\n",
    "# lease_node_type = \"gpu_p100\" # gpu_rtx_6000\n",
    "lease_node_type = \"compute_skylake\"\n",
    "\n",
    "reservations = []\n",
    "try:\n",
    "    print(\"Creating lease...\")\n",
    "    lease.add_fip_reservation(reservations, count=1)\n",
    "    lease.add_node_reservation(reservations, node_type=lease_node_type, count=1)\n",
    "\n",
    "    start_date, end_date = lease.lease_duration(days=0,hours=hours)\n",
    "    print(start_date, end_date)\n",
    "    l = lease.create_lease(\n",
    "        f\"{os.getenv('USER')}-kmc\", \n",
    "        reservations, \n",
    "        start_date=start_date, \n",
    "        end_date=end_date\n",
    "    )\n",
    "    lease_id = l[\"id\"]\n",
    "\n",
    "    print(\"Waiting for lease to start ...\")\n",
    "    lease.wait_for_active(lease_id)\n",
    "    print(\"Lease is now active!\")\n",
    "except keystoneauth1.exceptions.http.Unauthorized as e:\n",
    "    print(\"Unauthorized.\\nDid set your project name and and run the code in the first cell?\")\n",
    "except blazarclient.exception.BlazarClientException as e:\n",
    "    print(f\"There is an issue making the reservation. Check the calendar to make sure a {lease_node_type} node is available.\")\n",
    "    print(\"https://chi.uc.chameleoncloud.org/project/leases/calendar/host/\")\n",
    "    print(e)\n",
    "except Exception as e:\n",
    "    print(\"An unexpected error happened.\")\n",
    "    print(e)"
   ]
  },
  {
   "cell_type": "markdown",
   "metadata": {},
   "source": [
    "### Provision bare metal node\n",
    "\n",
    "Next, we will launch the reserved node with an image. \n",
    "It will take approximately 10 minutes for the bare metal node to be successfully provisioned. \n",
    "\n",
    "We use a image of Ubuntu 22.04 with CUDA installed provided by Chameleon.\n",
    "https://www.chameleoncloud.org/appliances/109/"
   ]
  },
  {
   "cell_type": "code",
   "execution_count": 4,
   "metadata": {},
   "outputs": [
    {
     "name": "stdout",
     "output_type": "stream",
     "text": [
      "Waiting for server to start ...\n",
      "Done\n"
     ]
    }
   ],
   "source": [
    "from chi import server\n",
    "\n",
    "image = \"CC-Ubuntu22.04-CUDA\"\n",
    "\n",
    "s = server.create_server(\n",
    "    f\"{os.getenv('USER')}-kmc\", \n",
    "    image_name=image,\n",
    "    reservation_id=lease.get_node_reservation(lease_id)\n",
    ")\n",
    "\n",
    "print(\"Waiting for server to start ...\")\n",
    "server.wait_for_active(s.id)\n",
    "print(\"Done\")"
   ]
  },
  {
   "cell_type": "markdown",
   "metadata": {},
   "source": [
    "By default our node is only connected to a private network and thus not reachable over the internet or via Jupyter here. We need to associate a \"Floating IP\" to the node, which gives it the public address we reserved."
   ]
  },
  {
   "cell_type": "code",
   "execution_count": 7,
   "metadata": {},
   "outputs": [
    {
     "name": "stdout",
     "output_type": "stream",
     "text": [
      "Waiting for SSH connectivity on 192.5.87.221 ...\n",
      "Connection successful\n"
     ]
    }
   ],
   "source": [
    "floating_ip = lease.get_reserved_floating_ips(lease_id)[0]\n",
    "server.associate_floating_ip(s.id, floating_ip_address=floating_ip)\n",
    "\n",
    "print(f\"Waiting for SSH connectivity on {floating_ip} ...\")\n",
    "timeout = 60*2\n",
    "import socket\n",
    "import time\n",
    "# Repeatedly try to connect via SSH.\n",
    "start_time = time.perf_counter()\n",
    "while True:\n",
    "    try:\n",
    "        with socket.create_connection((floating_ip, 22), timeout=timeout):\n",
    "            print(\"Connection successful\")\n",
    "            break\n",
    "    except OSError as ex:\n",
    "        time.sleep(10)\n",
    "        if time.perf_counter() - start_time >= timeout:\n",
    "            print(f\"After {timeout} seconds, could not connect via SSH. Please try again.\")\n"
   ]
  },
  {
   "cell_type": "markdown",
   "metadata": {},
   "source": [
    "### Configure the instance\n",
    "\n",
    "We provisioned the instance with a fresh base image, which comes with a lot of useful tools but not everything we need for this experiment. See the `setup.sh` for details; we will execute this setup script remotely on our server. Alternatively, we could create a snapshot of an instance. After one is made, it can be reused on new instances. The snapshot makes a copy of everything on the instance.\n",
    "\n",
    "Note: a warning may appear when running this cell, that is fine."
   ]
  },
  {
   "cell_type": "code",
   "execution_count": 11,
   "metadata": {},
   "outputs": [
    {
     "name": "stdout",
     "output_type": "stream",
     "text": [
      "DeviceKMC\n",
      "README\n",
      "my_mounting_point\n",
      "openrc\n",
      "setup.sh\n",
      "test\n",
      "\n"
     ]
    }
   ],
   "source": [
    "from chi import ssh\n",
    "\n",
    "with ssh.Remote(floating_ip) as conn:\n",
    "    # Upload the script\n",
    "    conn.put(\"setup.sh\")\n",
    "    # Run the script\n",
    "    conn.run(\"bash setup.sh\")"
   ]
  },
  {
   "cell_type": "markdown",
   "metadata": {},
   "source": [
    "## Run and visualize the experiment\n",
    "\n",
    "This copies the experiment runner script to the server, then runs the experiment, and saves the data.\n",
    "\n",
    "Afterwards, the measurements are downloaded and plotted."
   ]
  },
  {
   "cell_type": "markdown",
   "metadata": {},
   "source": [
    "### 3) Matrix Split for CG"
   ]
  },
  {
   "cell_type": "markdown",
   "metadata": {},
   "source": [
    "<img src=\"T_matrix.png\" alt=\"drawing\" width=\"600\"/>"
   ]
  },
  {
   "cell_type": "markdown",
   "metadata": {},
   "source": [
    "Figure 7) (a) Schematic representation of the connections between neighboring (blue) and non-neighboring (green) sites which lead to fixed and varying subsets of the sparsity pattern of $[G]$. (b) Scaling of the CG solver for \\textbf{Eqn. 5} on Piz Daint, for $[G]$ stored as a single CSR matrix (full) or split into two sparse matrices (split). The same number of CG steps were timed (until the norm of the residual matched a convergence criteria of 1$\\times$10$^{-15}\\times$N$_{atom}$. Error bars correspond to the 95\\% confidence interval over 35 measurements. The speedups are plotted with reference to the single-node runtime of the 'full' version. (c) Schematic of the extra communication overlap possible within the SpMV step when $[G]$ is stored in split format, where the SpMV with G$_1$ can occur in parallel with communicating the indices required for the SpMV of G$_2$."
   ]
  },
  {
   "cell_type": "markdown",
   "metadata": {},
   "source": [
    "This experiment replicates Figure 7 b) on a single node due to constraint resources on Chameleon."
   ]
  },
  {
   "cell_type": "code",
   "execution_count": null,
   "metadata": {},
   "outputs": [],
   "source": [
    "with ssh.Remote(floating_ip) as conn:\n",
    "    # Upload the script\n",
    "    conn.put(\"run_experiment_3.sh\")\n",
    "    conn.run(\"bash run_experiment_3.sh\")"
   ]
  },
  {
   "cell_type": "markdown",
   "metadata": {},
   "source": [
    "After the experiment terminates, we can download the results and extract them to our local output directory for analysis in Jupyter."
   ]
  },
  {
   "cell_type": "code",
   "execution_count": null,
   "metadata": {},
   "outputs": [],
   "source": [
    "import tarfile\n",
    "\n",
    "with ssh.Remote(floating_ip) as conn:\n",
    "    # Download the output\n",
    "    conn.get(\"out/latest.tar.gz\")\n",
    "with tarfile.open(\"latest.tar.gz\") as tar:\n",
    "    # Extract the results to our notebook\n",
    "    tar.extractall()\n",
    "print(\"done\")"
   ]
  }
 ],
 "metadata": {
  "kernelspec": {
   "display_name": "Python 3 (ipykernel)",
   "language": "python",
   "name": "python3"
  },
  "language_info": {
   "codemirror_mode": {
    "name": "ipython",
    "version": 3
   },
   "file_extension": ".py",
   "mimetype": "text/x-python",
   "name": "python",
   "nbconvert_exporter": "python",
   "pygments_lexer": "ipython3",
   "version": "3.10.9"
  }
 },
 "nbformat": 4,
 "nbformat_minor": 4
}
